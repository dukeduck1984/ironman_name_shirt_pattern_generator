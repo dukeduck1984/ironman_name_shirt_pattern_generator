{
 "cells": [
  {
   "cell_type": "code",
   "execution_count": 3,
   "metadata": {
    "collapsed": false,
    "scrolled": true
   },
   "outputs": [],
   "source": [
    "# -*- coding: UTF-8 -*-\n",
    "from PIL import Image\n",
    "from tabula import read_pdf\n",
    "import pandas as pd\n",
    "from PIL import Image, ImageDraw, ImageFont\n",
    "\n",
    "name_list = []\n",
    "df = read_pdf('xiamen.pdf', pages=\"all\", encoding='gb18030') \n",
    "for i in df.index:\n",
    "    if i == 0:\n",
    "        pass\n",
    "    else:\n",
    "        last_name = str(df.iat[i, 1]).strip().replace('?', '') #去掉两边空格，去掉中间?号，转成字符串\n",
    "        first_name = str(df.iat[i, 2]).strip().replace(' ', '').replace('?', '') # 去掉两边和中间空格，去掉?号，转成字符串\n",
    "        if \"nan\" not in last_name and \"AWA\" not in first_name: # 去掉无效名字\n",
    "            #print(last_name, first_name)\n",
    "            full_name = last_name + \" \" + first_name\n",
    "            name_list.append(full_name) # 生成名单列表\n",
    "\n",
    "name_string = \" - \".join(name_list) # 将名单列表的名字用 - 连接生成字符串\n",
    "\n",
    "ironman_image = Image.open(\"ironman.png\").convert(\"L\")\n",
    "w, h = ironman_image.size\n",
    "w = w * 3 #放大后的宽度（像素）\n",
    "h = h * 3 #放大后的高度（像素）\n",
    "ironman_image = ironman_image.resize((w, h)) # 等比放大\n",
    "ironman_image_pixel = {} # 获取Ironman Logo的像素信息，每一行0代表白色像素，1代表灰色像素\n",
    "for y in range(h):\n",
    "    ironman_image_pixel[y] = []\n",
    "    for x in range(w):\n",
    "        pixel = ironman_image.getpixel((x, y))\n",
    "        if pixel > 200: # 白色像素用0表示\n",
    "            ironman_image_pixel[y].append(0)\n",
    "        else:  # 灰色像素用1表示\n",
    "            ironman_image_pixel[y].append(1)\n",
    "\n",
    "\n",
    "# make a blank image for the text, initialized to transparent text color\n",
    "iron_names = Image.new('RGBA', ironman_image.size, (255,255,255,0)) # 透明画布\n",
    "# get a font\n",
    "fnt_size = 20\n",
    "fnt = ImageFont.truetype('C:/Windows/Fonts/Dengb.ttf', fnt_size)\n",
    "# get a drawing context\n",
    "iron_name_draw = ImageDraw.Draw(iron_names)\n",
    "\n",
    "pix = 0\n",
    "for y in range(h):\n",
    "    if y % fnt_size == 0: # 在符合字体大小的行上才生成名字\n",
    "        start_x = 0\n",
    "        for dot, i in zip(ironman_image_pixel[y], range(w)):\n",
    "            if (i+1)%(start_x+1) == 0: # 确保行中字母不重叠\n",
    "                if dot == 0: # 图片白色部分跳过\n",
    "                    start_x += fnt_size\n",
    "                else:\n",
    "                    if pix > len(name_string)-1: # 如果名单太短则从头来过\n",
    "                        pix = 0\n",
    "                    iron_name_draw.text((start_x,y), name_string[pix], font=fnt, fill=(255, 0, 0,255))# 生成不透明的红字\n",
    "                    sw, sh = fnt.getsize(name_string[pix]) # 得到当前字母的像素宽度和高度\n",
    "                    #sw1, sh1 = fnt.getsize(name_string[pix+1]) # 得到下一个字母的像素宽度和高度\n",
    "                    start_x = start_x + sw # 确定下一个字母的起始x坐标\n",
    "                    pix += 1\n",
    "                    #if (start_x + sw1) > int(w):\n",
    "                    #    break\n",
    "\n",
    "iron_names.save(\"D:/ironman_name_list.png\")\n",
    "iron_names.show()\n",
    "\n"
   ]
  },
  {
   "cell_type": "code",
   "execution_count": null,
   "metadata": {
    "collapsed": true
   },
   "outputs": [],
   "source": []
  }
 ],
 "metadata": {
  "anaconda-cloud": {},
  "kernelspec": {
   "display_name": "Python [conda root]",
   "language": "python",
   "name": "conda-root-py"
  },
  "language_info": {
   "codemirror_mode": {
    "name": "ipython",
    "version": 3
   },
   "file_extension": ".py",
   "mimetype": "text/x-python",
   "name": "python",
   "nbconvert_exporter": "python",
   "pygments_lexer": "ipython3",
   "version": "3.5.2"
  }
 },
 "nbformat": 4,
 "nbformat_minor": 1
}
